{
 "cells": [
  {
   "cell_type": "code",
   "execution_count": 6,
   "metadata": {},
   "outputs": [
    {
     "name": "stdout",
     "output_type": "stream",
     "text": [
      "The autoreload extension is already loaded. To reload it, use:\n",
      "  %reload_ext autoreload\n"
     ]
    }
   ],
   "source": [
    "%load_ext autoreload"
   ]
  },
  {
   "cell_type": "code",
   "execution_count": 7,
   "metadata": {},
   "outputs": [],
   "source": [
    "%autoreload\n",
    "\n",
    "import warnings\n",
    "warnings.simplefilter(action='ignore', category=FutureWarning)\n",
    "\n",
    "import os\n",
    "import numpy as np\n",
    "import pandas as pd\n",
    "pd.set_option('display.max_rows', 200)\n",
    "pd.set_option('display.max_columns', 200)\n",
    "import matplotlib.pyplot as plt\n",
    "%matplotlib inline\n",
    "plt.rcParams['figure.dpi'] = 200\n",
    "plt.rcParams['savefig.dpi'] = 200\n",
    "import seaborn as sns\n",
    "sns.set(rc={\"figure.dpi\":200, 'savefig.dpi':200})\n",
    "sns.set_context('notebook')\n",
    "sns.set_style(\"ticks\")\n",
    "import math\n",
    "\n",
    "sns.set_style('darkgrid')\n",
    "\n",
    "from statsmodels.tsa.stattools import adfuller\n",
    "from pmdarima import auto_arima\n",
    "from statsmodels.tsa.arima.model import ARIMA\n",
    "import sklearn as skl\n",
    "from statsmodels.tsa.statespace.sarimax import SARIMAX"
   ]
  },
  {
   "cell_type": "code",
   "execution_count": 8,
   "metadata": {},
   "outputs": [
    {
     "name": "stdout",
     "output_type": "stream",
     "text": [
      "Directory: .\n",
      "  File: Forecasting A.ipynb\n",
      "  File: Forecasting B.ipynb\n",
      "  File: Forecasting C.ipynb\n",
      "  File: full_arimax_A.csv\n",
      "  File: full_arimax_A_test.csv\n",
      "  File: full_arimax_B.csv\n",
      "  File: full_arimax_B_test.csv\n",
      "  File: full_arimax_C.csv\n",
      "  File: full_arimax_C_test.csv\n",
      "  File: Getting csv.ipynb\n",
      "  File: Neg_Pow_Inc_0.csv\n",
      "Directory: .\\data\n",
      "  File: Readme.md\n",
      "  File: read_files.ipynb\n",
      "  File: sample_submission.csv\n",
      "  File: test.csv\n",
      "Directory: .\\data\\A\n",
      "  File: train_targets.parquet\n",
      "  File: X_test_estimated.parquet\n",
      "  File: X_train_estimated.parquet\n",
      "  File: X_train_observed.parquet\n",
      "Directory: .\\data\\B\n",
      "  File: train_targets.parquet\n",
      "  File: X_test_estimated.parquet\n",
      "  File: X_train_estimated.parquet\n",
      "  File: X_train_observed.parquet\n",
      "Directory: .\\data\\C\n",
      "  File: train_targets.parquet\n",
      "  File: X_test_estimated.parquet\n",
      "  File: X_train_estimated.parquet\n",
      "  File: X_train_observed.parquet\n",
      "Directory: .\\__MACOSX\n",
      "Directory: .\\__MACOSX\\data\n"
     ]
    }
   ],
   "source": [
    "def list_directory_tree_with_os_walk(starting_directory):\n",
    "    for root, directories, files in os.walk(starting_directory):\n",
    "        print(f\"Directory: {root}\")\n",
    "        for file in files:\n",
    "            print(f\"  File: {file}\")\n",
    "\n",
    "list_directory_tree_with_os_walk('.')"
   ]
  },
  {
   "cell_type": "code",
   "execution_count": 16,
   "metadata": {},
   "outputs": [],
   "source": [
    "A = pd.read_csv(r'full_arimax_A.csv')\n",
    "B = pd.read_csv(r'full_arimax_B.csv')\n",
    "C = pd.read_csv(r'full_arimax_C.csv')\n",
    "full_model_arimax_predictions = pd.concat([A,B,C],ignore_index=True)"
   ]
  },
  {
   "cell_type": "code",
   "execution_count": 17,
   "metadata": {},
   "outputs": [],
   "source": [
    "full_model_arimax_predictions.to_csv(\"full_arimax.csv\", index=False)"
   ]
  },
  {
   "cell_type": "code",
   "execution_count": 18,
   "metadata": {},
   "outputs": [
    {
     "data": {
      "text/html": [
       "<div>\n",
       "<style scoped>\n",
       "    .dataframe tbody tr th:only-of-type {\n",
       "        vertical-align: middle;\n",
       "    }\n",
       "\n",
       "    .dataframe tbody tr th {\n",
       "        vertical-align: top;\n",
       "    }\n",
       "\n",
       "    .dataframe thead th {\n",
       "        text-align: right;\n",
       "    }\n",
       "</style>\n",
       "<table border=\"1\" class=\"dataframe\">\n",
       "  <thead>\n",
       "    <tr style=\"text-align: right;\">\n",
       "      <th></th>\n",
       "      <th>id</th>\n",
       "      <th>prediction</th>\n",
       "    </tr>\n",
       "  </thead>\n",
       "  <tbody>\n",
       "    <tr>\n",
       "      <th>0</th>\n",
       "      <td>0</td>\n",
       "      <td>0.000000</td>\n",
       "    </tr>\n",
       "    <tr>\n",
       "      <th>1</th>\n",
       "      <td>1</td>\n",
       "      <td>0.000000</td>\n",
       "    </tr>\n",
       "    <tr>\n",
       "      <th>2</th>\n",
       "      <td>2</td>\n",
       "      <td>0.000000</td>\n",
       "    </tr>\n",
       "    <tr>\n",
       "      <th>3</th>\n",
       "      <td>3</td>\n",
       "      <td>59.702762</td>\n",
       "    </tr>\n",
       "    <tr>\n",
       "      <th>4</th>\n",
       "      <td>4</td>\n",
       "      <td>426.489866</td>\n",
       "    </tr>\n",
       "    <tr>\n",
       "      <th>...</th>\n",
       "      <td>...</td>\n",
       "      <td>...</td>\n",
       "    </tr>\n",
       "    <tr>\n",
       "      <th>2155</th>\n",
       "      <td>2155</td>\n",
       "      <td>4.649129</td>\n",
       "    </tr>\n",
       "    <tr>\n",
       "      <th>2156</th>\n",
       "      <td>2156</td>\n",
       "      <td>0.000000</td>\n",
       "    </tr>\n",
       "    <tr>\n",
       "      <th>2157</th>\n",
       "      <td>2157</td>\n",
       "      <td>0.000000</td>\n",
       "    </tr>\n",
       "    <tr>\n",
       "      <th>2158</th>\n",
       "      <td>2158</td>\n",
       "      <td>0.000000</td>\n",
       "    </tr>\n",
       "    <tr>\n",
       "      <th>2159</th>\n",
       "      <td>2159</td>\n",
       "      <td>0.000000</td>\n",
       "    </tr>\n",
       "  </tbody>\n",
       "</table>\n",
       "<p>2160 rows × 2 columns</p>\n",
       "</div>"
      ],
      "text/plain": [
       "        id  prediction\n",
       "0        0    0.000000\n",
       "1        1    0.000000\n",
       "2        2    0.000000\n",
       "3        3   59.702762\n",
       "4        4  426.489866\n",
       "...    ...         ...\n",
       "2155  2155    4.649129\n",
       "2156  2156    0.000000\n",
       "2157  2157    0.000000\n",
       "2158  2158    0.000000\n",
       "2159  2159    0.000000\n",
       "\n",
       "[2160 rows x 2 columns]"
      ]
     },
     "execution_count": 18,
     "metadata": {},
     "output_type": "execute_result"
    }
   ],
   "source": [
    "full_model_arimax_predictions"
   ]
  }
 ],
 "metadata": {
  "kernelspec": {
   "display_name": "Python 3",
   "language": "python",
   "name": "python3"
  },
  "language_info": {
   "codemirror_mode": {
    "name": "ipython",
    "version": 3
   },
   "file_extension": ".py",
   "mimetype": "text/x-python",
   "name": "python",
   "nbconvert_exporter": "python",
   "pygments_lexer": "ipython3",
   "version": "3.11.5"
  },
  "orig_nbformat": 4
 },
 "nbformat": 4,
 "nbformat_minor": 2
}
